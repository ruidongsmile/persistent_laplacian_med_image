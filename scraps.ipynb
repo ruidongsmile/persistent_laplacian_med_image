{
 "cells": [
  {
   "cell_type": "code",
   "execution_count": 43,
   "id": "f5e1cc90-1a02-4794-805a-c5a922354572",
   "metadata": {},
   "outputs": [],
   "source": [
    "from tqdm import tqdm\n",
    "import numpy as np\n",
    "import torch\n",
    "import torch.nn as nn\n",
    "import torch.optim as optim\n",
    "import torch.utils.data as data\n",
    "import torchvision.transforms as transforms\n",
    "from torchvision import datasets\n",
    "\n",
    "import medmnist\n",
    "from medmnist import INFO, Evaluator\n",
    "\n",
    "from matplotlib import pyplot as plt\n",
    "\n",
    "from gudhi import CubicalComplex\n",
    "from gudhi.sklearn.cubical_persistence import CubicalPersistence\n",
    "\n",
    "from medmnist import PneumoniaMNIST\n",
    "\n",
    "from torch_cube_perslap_faster import ColumnRearrangeRegular, ColumnRearrangeGeneral"
   ]
  },
  {
   "cell_type": "code",
   "execution_count": 44,
   "id": "69422dcd-bbe5-401b-a5ce-25db6445506a",
   "metadata": {},
   "outputs": [],
   "source": [
    "# class ColumnRearrangeGeneral:\n",
    "#     def __init__(self, D):\n",
    "#         self.edges = dict()\n",
    "#         self.hyperedges = dict()\n",
    "#         self.vertices = None\n",
    "#         self.D = D\n",
    "#         self.D_nonzero = D.nonzero()\n",
    "#         self.visited = None\n",
    "#         self.CC = []\n",
    "#         # self.count = 0\n",
    "#         # self.label = torch.zeros(D.shape[1])\n",
    "\n",
    "#     def find_vertices(self):\n",
    "#         self.vertices = (torch.nonzero(self.D.abs().sum(axis=0))).squeeze().tolist()\n",
    "\n",
    "#     def vertices_visited(self):\n",
    "#         # self.visited = torch.zeros(len(self.vertices), dtype=torch.bool)\n",
    "#         self.visited = {i: False for i in self.vertices}\n",
    "\n",
    "    \n",
    "#     def find_edges(self):\n",
    "#         v_count = self.D.abs().sum(axis=1)\n",
    "\n",
    "        \n",
    "#         if len((v_count == 1).nonzero()) != 1:\n",
    "#             hyperedge_idx = (v_count == 1).nonzero().squeeze().tolist()\n",
    "#         elif len((v_count == 1).nonzero()) == 1:\n",
    "#             hyperedge_idx = [(v_count == 1).nonzero().squeeze().tolist()]\n",
    "\n",
    "    \n",
    "#         if len((v_count == 2).nonzero()) != 1:\n",
    "#             edge_idx = (v_count == 2).nonzero().squeeze().tolist()\n",
    "#         elif len((v_count == 2).nonzero()) == 1:\n",
    "#             edge_idx = [(v_count == 2).nonzero().squeeze().tolist()]\n",
    "\n",
    "#         self.edges = {i: (self.D_nonzero[self.D_nonzero[:, 0] == i][:, 1]).tolist() \n",
    "#                       for i in edge_idx}\n",
    "#         self.hyperedges = {i: (self.D_nonzero[self.D_nonzero[:, 0] == i][:, 1]).tolist() \n",
    "#                       for i in hyperedge_idx}\n",
    "    \n",
    "#     def dfs(self, u, temp):\n",
    "#         self.visited[u] = True\n",
    "        \n",
    "#         temp.append(u)\n",
    "\n",
    "#         for edge in self.edges.values():\n",
    "#             if u in edge:\n",
    "#                 v = edge[edge != u]\n",
    "#                 if not self.visited[v]:\n",
    "#                     temp = self.dfs(v, temp)\n",
    "#         return temp\n",
    "\n",
    "#     def connected_components(self):\n",
    "\n",
    "#         for v in self.vertices:\n",
    "#             if not self.visited[v]:\n",
    "#                 temp = []\n",
    "#                 self.CC.append(self.dfs(v, temp))\n",
    "\n",
    "#         if len(self.hyperedges) != 0:\n",
    "#             temp = []\n",
    "#             if len(list(self.hyperedges.values())) == 1:\n",
    "#                 hyperedges = list(self.hyperedges.values())[0]\n",
    "#             elif len(list(self.hyperedges.values())) > 1:\n",
    "#                 hyperedges = torch.tensor(list(self.hyperedges.values())).squeeze().tolist()\n",
    "#             for i in range(len(self.CC)):\n",
    "#                 if len(set(hyperedges) & set(self.CC[i])) == 0:\n",
    "#                     temp.append(i)\n",
    "#             self.CC = [self.CC[i] for i in temp]\n",
    "\n",
    "#     def find_zero_column(self):\n",
    "#         self.zero_column = (self.D.abs().sum(axis=0) == 0).nonzero().squeeze().tolist()\n",
    "#         if not isinstance(self.zero_column, list):\n",
    "#             self.zero_column = [self.zero_column]\n",
    "\n",
    "        \n",
    "#     # def select_components(self):\n",
    "#     #     if len(self.hyperedges) != 0:\n",
    "#     #         temp = []\n",
    "#     #         if len(list(self.hyperedges.values())) == 1:\n",
    "#     #             hyperedges = list(self.hyperedges.values())[0]\n",
    "#     #         elif len(list(self.hyperedges.values())) > 1:\n",
    "#     #             hyperedges = torch.tensor(list(self.hyperedges.values())).squeeze().tolist()\n",
    "#     #         for i in range(len(self.CC)):\n",
    "#     #             if len(set(hyperedges) & set(self.CC[i])) == 0:\n",
    "#     #                 temp.append(i)\n",
    "#     #         self.CC = [self.CC[i] for i in temp]\n",
    "#     #     else:\n",
    "#     #         pass"
   ]
  },
  {
   "cell_type": "code",
   "execution_count": 45,
   "id": "899797fc-4486-4e4e-b3b2-181d1fe1e2c7",
   "metadata": {},
   "outputs": [],
   "source": [
    "# D = torch.tensor([[0, 1, -1, 0, 0, 0], \n",
    "#                   [1, -1, 0, 0, 0, 0], \n",
    "#                   [0, 0, 0, 1, 0, -1]])\n",
    "\n",
    "# D = torch.tensor([[0, 1, -1, 0, 0, 0, 0], \n",
    "#                   [1, -1, 0, 0, 0, 0, 0], \n",
    "#                   [0, 0, 0, 1, 0, -1, 0]])\n",
    "\n",
    "# D = torch.tensor([[0, 0, 0, 1, 0, 0, 0, 0], \n",
    "#                   [1, -1, 0, 0, 0, 0, 0, 0], \n",
    "#                   [0, 0, 0, 1, 0, -1, 0, 0],\n",
    "#                   [0, 0, 0, 0, 1, 0, -1, 0]])\n",
    "\n",
    "D = torch.tensor([[-1, 0, 0, 0, 0, 1, 0], \n",
    "                  [0, -1, 0, 0, 0, 1, 0], \n",
    "                  [0, 1, 0, -1, 0, 0, 0],\n",
    "                  [0, 0, 0, 1, 0, 0, -1]])"
   ]
  },
  {
   "cell_type": "code",
   "execution_count": 46,
   "id": "49140d42-2d6e-4027-bccd-a20bf7990b0c",
   "metadata": {},
   "outputs": [
    {
     "data": {
      "text/plain": [
       "tensor([[-1,  0,  0,  0,  0,  1,  0],\n",
       "        [ 0, -1,  0,  0,  0,  1,  0],\n",
       "        [ 0,  1,  0, -1,  0,  0,  0],\n",
       "        [ 0,  0,  0,  1,  0,  0, -1]])"
      ]
     },
     "execution_count": 46,
     "metadata": {},
     "output_type": "execute_result"
    }
   ],
   "source": [
    "D"
   ]
  },
  {
   "cell_type": "code",
   "execution_count": 47,
   "id": "c83bbf54-85c0-4c00-8af9-6e0d23783bd4",
   "metadata": {},
   "outputs": [],
   "source": [
    "graph_D = ColumnRearrangeGeneral(D)"
   ]
  },
  {
   "cell_type": "code",
   "execution_count": 48,
   "id": "ac31e488-0c62-4da9-9096-8dd4e8ea851e",
   "metadata": {},
   "outputs": [
    {
     "data": {
      "text/plain": [
       "[0, 1, 3, 5, 6]"
      ]
     },
     "execution_count": 48,
     "metadata": {},
     "output_type": "execute_result"
    }
   ],
   "source": [
    "# Find vertices wrt D\n",
    "graph_D.find_vertices()\n",
    "\n",
    "graph_D.vertices"
   ]
  },
  {
   "cell_type": "code",
   "execution_count": 49,
   "id": "859ba642-68af-40e9-9d23-9a7d0a118251",
   "metadata": {},
   "outputs": [],
   "source": [
    "# Find edges wrt D\n",
    "graph_D.find_edges()"
   ]
  },
  {
   "cell_type": "code",
   "execution_count": 50,
   "id": "2bd7de9f-18af-46d6-b4ce-d18cfc0f648d",
   "metadata": {},
   "outputs": [
    {
     "data": {
      "text/plain": [
       "{0: [0, 5], 1: [1, 5], 2: [1, 3], 3: [3, 6]}"
      ]
     },
     "execution_count": 50,
     "metadata": {},
     "output_type": "execute_result"
    }
   ],
   "source": [
    "graph_D.edges"
   ]
  },
  {
   "cell_type": "code",
   "execution_count": 51,
   "id": "dcab92bf-68dc-4ebd-a6a1-a5716d264985",
   "metadata": {},
   "outputs": [
    {
     "data": {
      "text/plain": [
       "{}"
      ]
     },
     "execution_count": 51,
     "metadata": {},
     "output_type": "execute_result"
    }
   ],
   "source": [
    "graph_D.hyperedges"
   ]
  },
  {
   "cell_type": "code",
   "execution_count": 52,
   "id": "c2ef9dff-2541-451b-8253-a3f9802aa434",
   "metadata": {},
   "outputs": [],
   "source": [
    "graph_D.vertices_visited()"
   ]
  },
  {
   "cell_type": "code",
   "execution_count": 53,
   "id": "8c730ed3-20fa-46bc-934e-5d3e489cc8f6",
   "metadata": {},
   "outputs": [],
   "source": [
    "graph_D.connected_components()"
   ]
  },
  {
   "cell_type": "code",
   "execution_count": 54,
   "id": "b63859d9-994d-455f-a6fa-b792bc148e3f",
   "metadata": {},
   "outputs": [
    {
     "data": {
      "text/plain": [
       "[[0, 5], [1, 3, 6]]"
      ]
     },
     "execution_count": 54,
     "metadata": {},
     "output_type": "execute_result"
    }
   ],
   "source": [
    "graph_D.CC"
   ]
  },
  {
   "cell_type": "code",
   "execution_count": 57,
   "id": "93acbb94-6ae2-4061-a5c5-648207c503fc",
   "metadata": {},
   "outputs": [
    {
     "data": {
      "text/plain": [
       "tensor([[-1,  0,  0,  0,  0,  1,  0],\n",
       "        [ 0, -1,  0,  0,  0,  1,  0],\n",
       "        [ 0,  1,  0, -1,  0,  0,  0],\n",
       "        [ 0,  0,  0,  1,  0,  0, -1]])"
      ]
     },
     "execution_count": 57,
     "metadata": {},
     "output_type": "execute_result"
    }
   ],
   "source": [
    "D"
   ]
  },
  {
   "cell_type": "code",
   "execution_count": 65,
   "id": "86f71bc2-52eb-4d5c-8bb8-52609fb8ea41",
   "metadata": {},
   "outputs": [
    {
     "data": {
      "text/plain": [
       "tensor([[-1,  0,  0,  0,  0,  1,  0],\n",
       "        [ 0, -1,  0,  0,  0,  1,  0]])"
      ]
     },
     "execution_count": 65,
     "metadata": {},
     "output_type": "execute_result"
    }
   ],
   "source": [
    "D[D[:, 5] != 0, :]"
   ]
  },
  {
   "cell_type": "code",
   "execution_count": 71,
   "id": "7710bda0-426c-4f0a-abb6-1431c782157b",
   "metadata": {},
   "outputs": [],
   "source": [
    "tst = (D[D[:, 5] != 0, :]).abs().sum(axis=0).nonzero().squeeze().tolist()"
   ]
  },
  {
   "cell_type": "code",
   "execution_count": 73,
   "id": "34ff765e-5eea-474e-889f-db6b19a707f0",
   "metadata": {},
   "outputs": [],
   "source": [
    "tst.remove(5)"
   ]
  },
  {
   "cell_type": "code",
   "execution_count": 74,
   "id": "f2f4de06-675c-4b71-9979-d0f74e9f5cbd",
   "metadata": {},
   "outputs": [
    {
     "data": {
      "text/plain": [
       "[0, 1]"
      ]
     },
     "execution_count": 74,
     "metadata": {},
     "output_type": "execute_result"
    }
   ],
   "source": [
    "tst"
   ]
  },
  {
   "cell_type": "code",
   "execution_count": 32,
   "id": "49a6297d-0aeb-4890-9431-71efb50ee915",
   "metadata": {},
   "outputs": [
    {
     "data": {
      "text/plain": [
       "[5]"
      ]
     },
     "execution_count": 32,
     "metadata": {},
     "output_type": "execute_result"
    }
   ],
   "source": []
  },
  {
   "cell_type": "code",
   "execution_count": 33,
   "id": "0d659b0a-edd4-4082-87a6-0cad74ee0058",
   "metadata": {},
   "outputs": [
    {
     "data": {
      "text/plain": [
       "[[3]]"
      ]
     },
     "execution_count": 33,
     "metadata": {},
     "output_type": "execute_result"
    }
   ],
   "source": [
    "list(graph_D.hyperedges.values())"
   ]
  },
  {
   "cell_type": "code",
   "execution_count": 34,
   "id": "c3daabaa-6661-4914-84a1-ee8cbd94675f",
   "metadata": {},
   "outputs": [
    {
     "data": {
      "text/plain": [
       "3"
      ]
     },
     "execution_count": 34,
     "metadata": {},
     "output_type": "execute_result"
    }
   ],
   "source": [
    "torch.tensor(list(graph_D.hyperedges.values())).squeeze().tolist()"
   ]
  },
  {
   "cell_type": "code",
   "execution_count": null,
   "id": "00c09395-461a-4052-9d01-5af3bf94dc86",
   "metadata": {},
   "outputs": [],
   "source": []
  },
  {
   "cell_type": "code",
   "execution_count": null,
   "id": "4fe34673-acf1-4f09-b801-bf8a0717a55a",
   "metadata": {},
   "outputs": [],
   "source": []
  },
  {
   "cell_type": "code",
   "execution_count": null,
   "id": "aa1bedb4-7b9e-407c-958d-dba32472ed12",
   "metadata": {},
   "outputs": [],
   "source": []
  },
  {
   "cell_type": "code",
   "execution_count": null,
   "id": "4a0547e1-e255-457f-95fb-0f692f89bf71",
   "metadata": {},
   "outputs": [],
   "source": []
  },
  {
   "cell_type": "code",
   "execution_count": null,
   "id": "5b3eb6f2-cd89-4d3c-91d8-c4e5d60a0874",
   "metadata": {},
   "outputs": [],
   "source": []
  },
  {
   "cell_type": "code",
   "execution_count": null,
   "id": "b6398e88-dc4a-4aed-a889-ed78c232ac5e",
   "metadata": {},
   "outputs": [],
   "source": []
  },
  {
   "cell_type": "code",
   "execution_count": null,
   "id": "9a831698-862e-4b00-80a2-f440aae011d9",
   "metadata": {},
   "outputs": [],
   "source": []
  },
  {
   "cell_type": "code",
   "execution_count": null,
   "id": "df6a6dc6-cb17-4931-be73-f4f7cf492619",
   "metadata": {},
   "outputs": [],
   "source": []
  }
 ],
 "metadata": {
  "kernelspec": {
   "display_name": "Python 3 (ipykernel)",
   "language": "python",
   "name": "python3"
  },
  "language_info": {
   "codemirror_mode": {
    "name": "ipython",
    "version": 3
   },
   "file_extension": ".py",
   "mimetype": "text/x-python",
   "name": "python",
   "nbconvert_exporter": "python",
   "pygments_lexer": "ipython3",
   "version": "3.11.9"
  }
 },
 "nbformat": 4,
 "nbformat_minor": 5
}
