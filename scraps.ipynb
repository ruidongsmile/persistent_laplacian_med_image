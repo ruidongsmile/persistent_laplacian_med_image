{
 "cells": [
  {
   "cell_type": "code",
   "execution_count": 1,
   "id": "f5e1cc90-1a02-4794-805a-c5a922354572",
   "metadata": {},
   "outputs": [],
   "source": [
    "from tqdm import tqdm\n",
    "import numpy as np\n",
    "import torch\n",
    "import torch.nn as nn\n",
    "import torch.optim as optim\n",
    "import torch.utils.data as data\n",
    "import torchvision.transforms as transforms\n",
    "from torchvision import datasets\n",
    "\n",
    "import medmnist\n",
    "from medmnist import INFO, Evaluator\n",
    "\n",
    "from matplotlib import pyplot as plt\n",
    "\n",
    "from gudhi import CubicalComplex\n",
    "from gudhi.sklearn.cubical_persistence import CubicalPersistence\n",
    "\n",
    "from medmnist import PneumoniaMNIST\n",
    "\n",
    "from torch_cube_perslap_faster import ColumnRearrangeRegular"
   ]
  },
  {
   "cell_type": "code",
   "execution_count": 2,
   "id": "899797fc-4486-4e4e-b3b2-181d1fe1e2c7",
   "metadata": {},
   "outputs": [],
   "source": [
    "# D = torch.tensor([[0, 1, -1, 0, 0, 0], [1, -1, 0, 0, 0, 0], [0, 0, 0, 1, 0, -1]])\n",
    "# D = torch.tensor([[0, 1, -1, 0, 0, 0, 0], \n",
    "#                   [1, -1, 0, 0, 0, 0, 0], \n",
    "#                   [0, 0, 0, 1, 0, -1, 0]])\n",
    "\n",
    "D = torch.tensor([[0, 1, -1, 0, 0, 0, 0], \n",
    "                  [1, -1, 0, 0, 0, 0, 0], \n",
    "                  [0, 0, 0, 1, 0, -1, 0],\n",
    "                  [0, 0, 0, 0, 1, 0, -1]])"
   ]
  },
  {
   "cell_type": "code",
   "execution_count": 3,
   "id": "49140d42-2d6e-4027-bccd-a20bf7990b0c",
   "metadata": {},
   "outputs": [
    {
     "data": {
      "text/plain": [
       "tensor([[ 0,  1, -1,  0,  0,  0,  0],\n",
       "        [ 1, -1,  0,  0,  0,  0,  0],\n",
       "        [ 0,  0,  0,  1,  0, -1,  0],\n",
       "        [ 0,  0,  0,  0,  1,  0, -1]])"
      ]
     },
     "execution_count": 3,
     "metadata": {},
     "output_type": "execute_result"
    }
   ],
   "source": [
    "D"
   ]
  },
  {
   "cell_type": "code",
   "execution_count": 4,
   "id": "c83bbf54-85c0-4c00-8af9-6e0d23783bd4",
   "metadata": {},
   "outputs": [],
   "source": [
    "graph_D = ColumnRearrangeRegular(D)"
   ]
  },
  {
   "cell_type": "code",
   "execution_count": 5,
   "id": "ac31e488-0c62-4da9-9096-8dd4e8ea851e",
   "metadata": {},
   "outputs": [
    {
     "data": {
      "text/plain": [
       "[0, 1, 2, 3, 4, 5, 6]"
      ]
     },
     "execution_count": 5,
     "metadata": {},
     "output_type": "execute_result"
    }
   ],
   "source": [
    "# Find vertices wrt D\n",
    "graph_D.find_vertices()\n",
    "\n",
    "graph_D.vertices"
   ]
  },
  {
   "cell_type": "code",
   "execution_count": 6,
   "id": "6f9ec175-03aa-40bc-88e2-9cc1a98f4ca5",
   "metadata": {},
   "outputs": [],
   "source": [
    "graph_D.visited"
   ]
  },
  {
   "cell_type": "code",
   "execution_count": 7,
   "id": "ab04bff2-cc1e-4ce1-b1b8-a92ff2369cd7",
   "metadata": {},
   "outputs": [
    {
     "data": {
      "text/plain": [
       "{0: False, 1: False, 2: False, 3: False, 4: False, 5: False, 6: False}"
      ]
     },
     "execution_count": 7,
     "metadata": {},
     "output_type": "execute_result"
    }
   ],
   "source": [
    "graph_D.vertices_visited()\n",
    "graph_D.visited"
   ]
  },
  {
   "cell_type": "code",
   "execution_count": 8,
   "id": "febeea6a-db35-4bbc-9f5f-7ffda6e9f199",
   "metadata": {},
   "outputs": [
    {
     "data": {
      "text/plain": [
       "False"
      ]
     },
     "execution_count": 8,
     "metadata": {},
     "output_type": "execute_result"
    }
   ],
   "source": [
    "graph_D.visited[5]"
   ]
  },
  {
   "cell_type": "code",
   "execution_count": 9,
   "id": "859ba642-68af-40e9-9d23-9a7d0a118251",
   "metadata": {},
   "outputs": [
    {
     "data": {
      "text/plain": [
       "{0: [1, 2], 1: [0, 1], 2: [3, 5], 3: [4, 6]}"
      ]
     },
     "execution_count": 9,
     "metadata": {},
     "output_type": "execute_result"
    }
   ],
   "source": [
    "# Find edges wrt D\n",
    "graph_D.find_edges()\n",
    "\n",
    "graph_D.edges"
   ]
  },
  {
   "cell_type": "code",
   "execution_count": 10,
   "id": "0200f2a5-e198-4534-b92d-57bdddd9eefe",
   "metadata": {},
   "outputs": [
    {
     "data": {
      "text/plain": [
       "[[0, 1, 2], [3, 5], [4, 6]]"
      ]
     },
     "execution_count": 10,
     "metadata": {},
     "output_type": "execute_result"
    }
   ],
   "source": [
    "# Find connected components wrt D\n",
    "graph_D.connected_cmpts()\n",
    "\n",
    "graph_D.CC"
   ]
  },
  {
   "cell_type": "code",
   "execution_count": null,
   "id": "8c730ed3-20fa-46bc-934e-5d3e489cc8f6",
   "metadata": {},
   "outputs": [],
   "source": []
  },
  {
   "cell_type": "code",
   "execution_count": null,
   "id": "b8e751ba-9e9b-4762-8c73-dcb8955b083e",
   "metadata": {},
   "outputs": [],
   "source": []
  }
 ],
 "metadata": {
  "kernelspec": {
   "display_name": "Python 3 (ipykernel)",
   "language": "python",
   "name": "python3"
  },
  "language_info": {
   "codemirror_mode": {
    "name": "ipython",
    "version": 3
   },
   "file_extension": ".py",
   "mimetype": "text/x-python",
   "name": "python",
   "nbconvert_exporter": "python",
   "pygments_lexer": "ipython3",
   "version": "3.11.9"
  }
 },
 "nbformat": 4,
 "nbformat_minor": 5
}
