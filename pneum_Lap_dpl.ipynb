{
 "cells": [
  {
   "cell_type": "code",
   "execution_count": 1,
   "id": "f88a689e-44ac-48ab-b1a4-9445e05bdc23",
   "metadata": {},
   "outputs": [],
   "source": [
    "import torch\n",
    "import torch.nn as nn\n",
    "import torch.optim as optim\n",
    "\n",
    "from matplotlib import pyplot as plt\n",
    "\n",
    "import medmnist\n",
    "from medmnist import INFO, Evaluator"
   ]
  },
  {
   "cell_type": "code",
   "execution_count": 2,
   "id": "468c4b7a-36e2-4c8c-a7ce-15ab457f1c89",
   "metadata": {},
   "outputs": [],
   "source": [
    "lap_egns_1 = torch.load(\"eigenvalues/lap_egns_1_pneum.pt\")\n",
    "lap_egns_2 = torch.load(\"eigenvalues/lap_egns_2_pneum.pt\")\n",
    "lap_egns_3 = torch.load(\"eigenvalues/lap_egns_3_pneum.pt\")\n",
    "lap_egns_4 = torch.load(\"eigenvalues/lap_egns_4_pneum.pt\")\n",
    "lap_egns_5 = torch.load(\"eigenvalues/lap_egns_5_pneum.pt\")\n",
    "\n",
    "lap_egns_test = torch.load(\"eigenvalues/lap_egns_test_pneum.pt\")\n",
    "\n",
    "train_labels = torch.load(\"eigenvalues/train_labels_pneum.pt\")\n",
    "test_labels = torch.load(\"eigenvalues/test_labels_pneum.pt\")"
   ]
  },
  {
   "cell_type": "code",
   "execution_count": 3,
   "id": "4b4ca0ac-00ce-4477-981d-59dde8748fd6",
   "metadata": {},
   "outputs": [],
   "source": [
    "train_eigns = torch.cat([lap_egns_1, lap_egns_2, lap_egns_3, lap_egns_4, lap_egns_5])"
   ]
  },
  {
   "cell_type": "code",
   "execution_count": 4,
   "id": "bf32a917-e5c6-407e-ad06-f64343c9da7f",
   "metadata": {},
   "outputs": [
    {
     "data": {
      "text/plain": [
       "torch.Size([4708, 14, 3])"
      ]
     },
     "execution_count": 4,
     "metadata": {},
     "output_type": "execute_result"
    }
   ],
   "source": [
    "train_eigns.shape"
   ]
  },
  {
   "cell_type": "code",
   "execution_count": 5,
   "id": "9a2a155b-3d59-4c7c-b8ab-2b5a0987ef40",
   "metadata": {},
   "outputs": [
    {
     "data": {
      "text/plain": [
       "torch.Size([4708, 28])"
      ]
     },
     "execution_count": 5,
     "metadata": {},
     "output_type": "execute_result"
    }
   ],
   "source": [
    "train_eigns[:, :, 0:2].flatten(start_dim=1).shape"
   ]
  },
  {
   "cell_type": "code",
   "execution_count": 6,
   "id": "d2c84c2b-844c-4cbb-b1e6-aa685716bc1f",
   "metadata": {},
   "outputs": [],
   "source": [
    "train_data = [(lap, lb) for lap, lb in zip(train_eigns[:, :, 1], train_labels.squeeze().tolist())]  # train_eigns[:, :, 1] "
   ]
  },
  {
   "cell_type": "code",
   "execution_count": 7,
   "id": "a619d656-a090-4cc5-8806-bc806e9a3659",
   "metadata": {},
   "outputs": [],
   "source": [
    "test_data = [(lap, lb) for lap, lb in zip(lap_egns_test[:, :, 1], test_labels.squeeze().tolist())] # lap_egns_test[:, :, 1] "
   ]
  },
  {
   "cell_type": "markdown",
   "id": "f7dd4ec1-efc4-4627-8b94-6a141897c4b2",
   "metadata": {},
   "source": [
    "# Training"
   ]
  },
  {
   "cell_type": "code",
   "execution_count": 8,
   "id": "98fea7e1-b79c-423f-956c-65bbb17537ba",
   "metadata": {},
   "outputs": [],
   "source": [
    "train_loader = torch.utils.data.DataLoader(train_data, batch_size=64,\n",
    "                                           shuffle=True)"
   ]
  },
  {
   "cell_type": "code",
   "execution_count": 9,
   "id": "ed0cec55-cc74-45e5-9fb2-54b593395e75",
   "metadata": {},
   "outputs": [
    {
     "data": {
      "text/plain": [
       "torch.Size([4708, 14])"
      ]
     },
     "execution_count": 9,
     "metadata": {},
     "output_type": "execute_result"
    }
   ],
   "source": [
    "train_eigns[:, :, 1].shape"
   ]
  },
  {
   "cell_type": "code",
   "execution_count": 10,
   "id": "7d2953b0-6fb6-4005-a1d1-25f2f58c7f5b",
   "metadata": {},
   "outputs": [],
   "source": [
    "model = nn.Sequential(\n",
    "            nn.Linear(14, 2048),\n",
    "            nn.Tanh(),\n",
    "            nn.Linear(2048, 2048),\n",
    "            nn.Tanh(),\n",
    "            nn.Linear(2048, 1024),\n",
    "            nn.Tanh(),\n",
    "            nn.Linear(1024, 512),\n",
    "            nn.Tanh(),\n",
    "            nn.Linear(512, 256),\n",
    "            nn.Tanh(),\n",
    "            nn.Linear(256, 2),\n",
    "            # nn.LogSoftmax(dim=1)\n",
    ")"
   ]
  },
  {
   "cell_type": "code",
   "execution_count": 11,
   "id": "bbf680c3-d5ab-4085-b85a-293a0198cfb7",
   "metadata": {},
   "outputs": [],
   "source": [
    "learning_rate = 5e-3\n",
    "\n",
    "optimizer = optim.SGD(model.parameters(), lr=learning_rate)\n",
    "\n",
    "loss_fn = nn.CrossEntropyLoss()\n",
    "\n",
    "n_epochs = 150"
   ]
  },
  {
   "cell_type": "code",
   "execution_count": null,
   "id": "ecf69ca6-47ab-4480-bd99-169ebf66176d",
   "metadata": {
    "scrolled": true
   },
   "outputs": [
    {
     "name": "stdout",
     "output_type": "stream",
     "text": [
      "Epoch: 0, Loss: 0.579289\n",
      "Epoch: 1, Loss: 0.543538\n",
      "Epoch: 2, Loss: 0.536936\n",
      "Epoch: 3, Loss: 0.563300\n",
      "Epoch: 4, Loss: 0.496939\n",
      "Epoch: 5, Loss: 0.560550\n",
      "Epoch: 6, Loss: 0.619036\n",
      "Epoch: 7, Loss: 0.613952\n",
      "Epoch: 8, Loss: 0.476434\n",
      "Epoch: 9, Loss: 0.565849\n",
      "Epoch: 10, Loss: 0.522263\n",
      "Epoch: 11, Loss: 0.613749\n",
      "Epoch: 12, Loss: 0.517053\n",
      "Epoch: 13, Loss: 0.620651\n",
      "Epoch: 14, Loss: 0.574933\n",
      "Epoch: 15, Loss: 0.566060\n",
      "Epoch: 16, Loss: 0.569068\n",
      "Epoch: 17, Loss: 0.488928\n",
      "Epoch: 18, Loss: 0.463417\n",
      "Epoch: 19, Loss: 0.510320\n",
      "Epoch: 20, Loss: 0.551376\n",
      "Epoch: 21, Loss: 0.609563\n",
      "Epoch: 22, Loss: 0.443546\n",
      "Epoch: 23, Loss: 0.508792\n",
      "Epoch: 24, Loss: 0.432332\n",
      "Epoch: 25, Loss: 0.565774\n",
      "Epoch: 26, Loss: 0.584620\n",
      "Epoch: 27, Loss: 0.712303\n",
      "Epoch: 28, Loss: 0.520854\n",
      "Epoch: 29, Loss: 0.659442\n",
      "Epoch: 30, Loss: 0.582544\n",
      "Epoch: 31, Loss: 0.584849\n",
      "Epoch: 32, Loss: 0.486756\n",
      "Epoch: 33, Loss: 0.614719\n",
      "Epoch: 34, Loss: 0.471055\n",
      "Epoch: 35, Loss: 0.575174\n",
      "Epoch: 36, Loss: 0.596581\n",
      "Epoch: 37, Loss: 0.554742\n",
      "Epoch: 38, Loss: 0.598655\n",
      "Epoch: 39, Loss: 0.614580\n",
      "Epoch: 40, Loss: 0.529693\n",
      "Epoch: 41, Loss: 0.601906\n",
      "Epoch: 42, Loss: 0.572881\n",
      "Epoch: 43, Loss: 0.641638\n",
      "Epoch: 44, Loss: 0.663438\n",
      "Epoch: 45, Loss: 0.567556\n",
      "Epoch: 46, Loss: 0.357511\n",
      "Epoch: 47, Loss: 0.646742\n",
      "Epoch: 48, Loss: 0.474980\n",
      "Epoch: 49, Loss: 0.512920\n",
      "Epoch: 50, Loss: 0.590134\n",
      "Epoch: 51, Loss: 0.500970\n",
      "Epoch: 52, Loss: 0.447805\n"
     ]
    }
   ],
   "source": [
    "for epoch in range(n_epochs):\n",
    "    for eig_vals, label in train_loader:\n",
    "        out = model(eig_vals)\n",
    "        loss = loss_fn(out, label)\n",
    "                \n",
    "        optimizer.zero_grad()\n",
    "        loss.backward()\n",
    "        optimizer.step()\n",
    "\n",
    "    print(\"Epoch: %d, Loss: %f\" % (epoch, float(loss)))\n",
    "    # if loss <= 0.02:\n",
    "    #     break"
   ]
  },
  {
   "cell_type": "code",
   "execution_count": null,
   "id": "e4d4fbe2-29c9-412a-b4ae-9e2b2e174a0f",
   "metadata": {},
   "outputs": [],
   "source": [
    "# train_loader = torch.utils.data.DataLoader(train_data, batch_size=64,\n",
    "#                                            shuffle=False)\n",
    "correct = 0\n",
    "total = 0\n",
    "\n",
    "with torch.no_grad():\n",
    "    for laps, labels in train_loader:\n",
    "        outputs = model(laps)\n",
    "        _, predicted = torch.max(outputs, dim=1)\n",
    "        total += labels.shape[0]\n",
    "        correct += int((predicted == labels).sum())\n",
    "        \n",
    "print(\"Accuracy: %f\" % (correct / total))"
   ]
  },
  {
   "cell_type": "code",
   "execution_count": null,
   "id": "050ed6c1-45e9-4cb6-8ced-7b81cc635298",
   "metadata": {},
   "outputs": [],
   "source": [
    "test_loader = torch.utils.data.DataLoader(test_data, batch_size=64,\n",
    "                                         shuffle=False)\n",
    "\n",
    "correct = 0\n",
    "total = 0\n",
    "\n",
    "with torch.no_grad():\n",
    "    for laps, labels in test_loader:\n",
    "        outputs = model(laps)\n",
    "        _, predicted = torch.max(outputs, dim=1)\n",
    "        total += labels.shape[0]\n",
    "        correct += int((predicted == labels).sum())\n",
    "        \n",
    "print(\"Accuracy: %f\" % (correct / total))"
   ]
  },
  {
   "cell_type": "code",
   "execution_count": null,
   "id": "27082cbe-c6e3-4c19-834c-f23ed82f0b13",
   "metadata": {},
   "outputs": [],
   "source": []
  },
  {
   "cell_type": "code",
   "execution_count": null,
   "id": "51705e54-f432-4455-a2e3-7e34668b3fad",
   "metadata": {},
   "outputs": [],
   "source": []
  },
  {
   "cell_type": "code",
   "execution_count": null,
   "id": "ac3017e1-786c-4f94-9da5-868503c9737f",
   "metadata": {},
   "outputs": [],
   "source": []
  },
  {
   "cell_type": "code",
   "execution_count": null,
   "id": "379ea8a2-e8d2-490b-83a5-4bdc344347ab",
   "metadata": {},
   "outputs": [],
   "source": []
  },
  {
   "cell_type": "code",
   "execution_count": null,
   "id": "7cd8c181-7c3d-43ff-859e-5c969fa0308e",
   "metadata": {},
   "outputs": [],
   "source": []
  },
  {
   "cell_type": "code",
   "execution_count": null,
   "id": "7aef2e7e-96f9-4056-9704-6aeebba7f8c9",
   "metadata": {},
   "outputs": [],
   "source": []
  },
  {
   "cell_type": "code",
   "execution_count": null,
   "id": "6fb116d2-2645-46b2-92aa-669db09f60ee",
   "metadata": {},
   "outputs": [],
   "source": []
  },
  {
   "cell_type": "code",
   "execution_count": null,
   "id": "481db5bf-784c-4a52-88a8-65bdb89a67c5",
   "metadata": {},
   "outputs": [],
   "source": []
  }
 ],
 "metadata": {
  "kernelspec": {
   "display_name": "Python 3 (ipykernel)",
   "language": "python",
   "name": "python3"
  },
  "language_info": {
   "codemirror_mode": {
    "name": "ipython",
    "version": 3
   },
   "file_extension": ".py",
   "mimetype": "text/x-python",
   "name": "python",
   "nbconvert_exporter": "python",
   "pygments_lexer": "ipython3",
   "version": "3.11.9"
  }
 },
 "nbformat": 4,
 "nbformat_minor": 5
}
