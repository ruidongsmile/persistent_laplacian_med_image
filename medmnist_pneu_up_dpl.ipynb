{
 "cells": [
  {
   "cell_type": "code",
   "execution_count": 1,
   "id": "f88a689e-44ac-48ab-b1a4-9445e05bdc23",
   "metadata": {},
   "outputs": [],
   "source": [
    "import torch\n",
    "import torch.nn as nn\n",
    "import torch.optim as optim\n",
    "\n",
    "from matplotlib import pyplot as plt\n",
    "\n",
    "import medmnist\n",
    "from medmnist import INFO, Evaluator"
   ]
  },
  {
   "cell_type": "code",
   "execution_count": 2,
   "id": "468c4b7a-36e2-4c8c-a7ce-15ab457f1c89",
   "metadata": {},
   "outputs": [],
   "source": [
    "lap_egns_1 = torch.load(\"eigenvalues/lap_egns_1_up_pneum.pt\")\n",
    "lap_egns_2 = torch.load(\"eigenvalues/lap_egns_2_up_pneum.pt\")\n",
    "lap_egns_3 = torch.load(\"eigenvalues/lap_egns_3_up_pneum.pt\")\n",
    "lap_egns_4 = torch.load(\"eigenvalues/lap_egns_4_up_pneum.pt\")\n",
    "lap_egns_5 = torch.load(\"eigenvalues/lap_egns_5_up_pneum.pt\")\n",
    "\n",
    "lap_egns_test = torch.load(\"eigenvalues/lap_egns_test_up_pneum.pt\")\n",
    "\n",
    "train_labels = torch.load(\"eigenvalues/train_labels_pneum.pt\")\n",
    "test_labels = torch.load(\"eigenvalues/test_labels_pneum.pt\")"
   ]
  },
  {
   "cell_type": "code",
   "execution_count": 3,
   "id": "4b4ca0ac-00ce-4477-981d-59dde8748fd6",
   "metadata": {},
   "outputs": [],
   "source": [
    "train_eigns = torch.cat([lap_egns_1, lap_egns_2, lap_egns_3, lap_egns_4, lap_egns_5])"
   ]
  },
  {
   "cell_type": "code",
   "execution_count": 4,
   "id": "bf32a917-e5c6-407e-ad06-f64343c9da7f",
   "metadata": {},
   "outputs": [
    {
     "data": {
      "text/plain": [
       "torch.Size([4708, 14])"
      ]
     },
     "execution_count": 4,
     "metadata": {},
     "output_type": "execute_result"
    }
   ],
   "source": [
    "train_eigns.shape"
   ]
  },
  {
   "cell_type": "code",
   "execution_count": 5,
   "id": "d2c84c2b-844c-4cbb-b1e6-aa685716bc1f",
   "metadata": {},
   "outputs": [],
   "source": [
    "train_data = [(lap, lb) for lap, lb in zip(train_eigns, train_labels.squeeze().tolist())]  # train_eigns[:, :, 1] "
   ]
  },
  {
   "cell_type": "code",
   "execution_count": 6,
   "id": "a619d656-a090-4cc5-8806-bc806e9a3659",
   "metadata": {},
   "outputs": [],
   "source": [
    "test_data = [(lap, lb) for lap, lb in zip(lap_egns_test, test_labels.squeeze().tolist())] # lap_egns_test[:, :, 1] "
   ]
  },
  {
   "cell_type": "markdown",
   "id": "f7dd4ec1-efc4-4627-8b94-6a141897c4b2",
   "metadata": {},
   "source": [
    "# Training"
   ]
  },
  {
   "cell_type": "code",
   "execution_count": 7,
   "id": "98fea7e1-b79c-423f-956c-65bbb17537ba",
   "metadata": {},
   "outputs": [],
   "source": [
    "train_loader = torch.utils.data.DataLoader(train_data, batch_size=64,\n",
    "                                           shuffle=True)"
   ]
  },
  {
   "cell_type": "code",
   "execution_count": 8,
   "id": "ed0cec55-cc74-45e5-9fb2-54b593395e75",
   "metadata": {},
   "outputs": [
    {
     "data": {
      "text/plain": [
       "torch.Size([4708, 14])"
      ]
     },
     "execution_count": 8,
     "metadata": {},
     "output_type": "execute_result"
    }
   ],
   "source": [
    "train_eigns.shape"
   ]
  },
  {
   "cell_type": "code",
   "execution_count": 9,
   "id": "7d2953b0-6fb6-4005-a1d1-25f2f58c7f5b",
   "metadata": {},
   "outputs": [],
   "source": [
    "model = nn.Sequential(\n",
    "            nn.Linear(14, 2048),\n",
    "            nn.Tanh(),\n",
    "            nn.Linear(2048, 2048),\n",
    "            nn.Tanh(),\n",
    "            nn.Linear(2048, 1024),\n",
    "            nn.Tanh(),\n",
    "            nn.Linear(1024, 512),\n",
    "            nn.Tanh(),\n",
    "            nn.Linear(512, 256),\n",
    "            nn.Tanh(),\n",
    "            nn.Linear(256, 2),\n",
    "            # nn.LogSoftmax(dim=1)\n",
    ")"
   ]
  },
  {
   "cell_type": "code",
   "execution_count": 10,
   "id": "bbf680c3-d5ab-4085-b85a-293a0198cfb7",
   "metadata": {},
   "outputs": [],
   "source": [
    "learning_rate = 5e-3\n",
    "\n",
    "optimizer = optim.SGD(model.parameters(), lr=learning_rate)\n",
    "\n",
    "loss_fn = nn.CrossEntropyLoss()\n",
    "\n",
    "n_epochs = 150"
   ]
  },
  {
   "cell_type": "code",
   "execution_count": 11,
   "id": "ecf69ca6-47ab-4480-bd99-169ebf66176d",
   "metadata": {
    "scrolled": true
   },
   "outputs": [
    {
     "name": "stdout",
     "output_type": "stream",
     "text": [
      "Epoch: 0, Loss: 0.672526\n",
      "Epoch: 1, Loss: 0.516529\n",
      "Epoch: 2, Loss: 0.641875\n",
      "Epoch: 3, Loss: 0.588324\n",
      "Epoch: 4, Loss: 0.535340\n",
      "Epoch: 5, Loss: 0.580469\n",
      "Epoch: 6, Loss: 0.493762\n",
      "Epoch: 7, Loss: 0.507230\n",
      "Epoch: 8, Loss: 0.559044\n",
      "Epoch: 9, Loss: 0.470834\n",
      "Epoch: 10, Loss: 0.582531\n",
      "Epoch: 11, Loss: 0.560940\n",
      "Epoch: 12, Loss: 0.508982\n",
      "Epoch: 13, Loss: 0.571094\n",
      "Epoch: 14, Loss: 0.564142\n",
      "Epoch: 15, Loss: 0.556890\n",
      "Epoch: 16, Loss: 0.513338\n",
      "Epoch: 17, Loss: 0.719438\n",
      "Epoch: 18, Loss: 0.547533\n",
      "Epoch: 19, Loss: 0.497279\n",
      "Epoch: 20, Loss: 0.515987\n",
      "Epoch: 21, Loss: 0.536389\n",
      "Epoch: 22, Loss: 0.546016\n",
      "Epoch: 23, Loss: 0.504062\n",
      "Epoch: 24, Loss: 0.618706\n",
      "Epoch: 25, Loss: 0.621936\n",
      "Epoch: 26, Loss: 0.531741\n",
      "Epoch: 27, Loss: 0.430661\n",
      "Epoch: 28, Loss: 0.572491\n",
      "Epoch: 29, Loss: 0.418419\n",
      "Epoch: 30, Loss: 0.462196\n",
      "Epoch: 31, Loss: 0.366145\n",
      "Epoch: 32, Loss: 0.492072\n",
      "Epoch: 33, Loss: 0.399918\n",
      "Epoch: 34, Loss: 0.474991\n",
      "Epoch: 35, Loss: 0.590050\n",
      "Epoch: 36, Loss: 0.578634\n",
      "Epoch: 37, Loss: 0.428061\n",
      "Epoch: 38, Loss: 0.416170\n",
      "Epoch: 39, Loss: 0.386163\n",
      "Epoch: 40, Loss: 0.313592\n",
      "Epoch: 41, Loss: 0.467952\n",
      "Epoch: 42, Loss: 0.382692\n",
      "Epoch: 43, Loss: 0.503665\n",
      "Epoch: 44, Loss: 0.306705\n",
      "Epoch: 45, Loss: 0.526316\n",
      "Epoch: 46, Loss: 0.337036\n",
      "Epoch: 47, Loss: 0.303246\n",
      "Epoch: 48, Loss: 0.543453\n",
      "Epoch: 49, Loss: 0.372203\n",
      "Epoch: 50, Loss: 0.310700\n",
      "Epoch: 51, Loss: 0.566929\n",
      "Epoch: 52, Loss: 0.279499\n",
      "Epoch: 53, Loss: 0.427610\n",
      "Epoch: 54, Loss: 0.499052\n",
      "Epoch: 55, Loss: 0.262638\n",
      "Epoch: 56, Loss: 0.428691\n",
      "Epoch: 57, Loss: 0.321886\n",
      "Epoch: 58, Loss: 0.386830\n",
      "Epoch: 59, Loss: 0.258993\n",
      "Epoch: 60, Loss: 0.279364\n",
      "Epoch: 61, Loss: 0.369711\n",
      "Epoch: 62, Loss: 0.443901\n",
      "Epoch: 63, Loss: 0.328233\n",
      "Epoch: 64, Loss: 0.374120\n",
      "Epoch: 65, Loss: 0.283640\n",
      "Epoch: 66, Loss: 0.209760\n",
      "Epoch: 67, Loss: 0.301399\n",
      "Epoch: 68, Loss: 0.259346\n",
      "Epoch: 69, Loss: 0.330182\n",
      "Epoch: 70, Loss: 0.112023\n",
      "Epoch: 71, Loss: 0.329074\n",
      "Epoch: 72, Loss: 0.238265\n",
      "Epoch: 73, Loss: 0.289859\n",
      "Epoch: 74, Loss: 0.172050\n",
      "Epoch: 75, Loss: 0.257216\n",
      "Epoch: 76, Loss: 0.174723\n",
      "Epoch: 77, Loss: 0.206315\n",
      "Epoch: 78, Loss: 0.293512\n",
      "Epoch: 79, Loss: 0.404429\n",
      "Epoch: 80, Loss: 0.153220\n",
      "Epoch: 81, Loss: 0.320217\n",
      "Epoch: 82, Loss: 0.222385\n",
      "Epoch: 83, Loss: 0.243120\n",
      "Epoch: 84, Loss: 0.285206\n",
      "Epoch: 85, Loss: 0.203618\n",
      "Epoch: 86, Loss: 0.187881\n",
      "Epoch: 87, Loss: 0.227862\n",
      "Epoch: 88, Loss: 0.218263\n",
      "Epoch: 89, Loss: 0.260264\n",
      "Epoch: 90, Loss: 0.402239\n",
      "Epoch: 91, Loss: 0.218094\n",
      "Epoch: 92, Loss: 0.153007\n",
      "Epoch: 93, Loss: 0.309202\n",
      "Epoch: 94, Loss: 0.232573\n",
      "Epoch: 95, Loss: 0.466784\n",
      "Epoch: 96, Loss: 0.335634\n",
      "Epoch: 97, Loss: 0.441026\n",
      "Epoch: 98, Loss: 0.176432\n",
      "Epoch: 99, Loss: 0.178383\n",
      "Epoch: 100, Loss: 0.227799\n",
      "Epoch: 101, Loss: 0.301621\n",
      "Epoch: 102, Loss: 0.251453\n",
      "Epoch: 103, Loss: 0.391167\n",
      "Epoch: 104, Loss: 0.407933\n",
      "Epoch: 105, Loss: 0.323935\n",
      "Epoch: 106, Loss: 0.242918\n",
      "Epoch: 107, Loss: 0.107836\n",
      "Epoch: 108, Loss: 0.391406\n",
      "Epoch: 109, Loss: 0.253799\n",
      "Epoch: 110, Loss: 0.171661\n",
      "Epoch: 111, Loss: 0.368918\n",
      "Epoch: 112, Loss: 0.091551\n",
      "Epoch: 113, Loss: 0.122327\n",
      "Epoch: 114, Loss: 0.223342\n",
      "Epoch: 115, Loss: 0.167734\n",
      "Epoch: 116, Loss: 0.153721\n",
      "Epoch: 117, Loss: 0.154760\n",
      "Epoch: 118, Loss: 0.267652\n",
      "Epoch: 119, Loss: 0.217795\n",
      "Epoch: 120, Loss: 0.611996\n",
      "Epoch: 121, Loss: 0.165898\n",
      "Epoch: 122, Loss: 0.106202\n",
      "Epoch: 123, Loss: 0.307901\n",
      "Epoch: 124, Loss: 0.448740\n",
      "Epoch: 125, Loss: 0.275770\n",
      "Epoch: 126, Loss: 0.395593\n",
      "Epoch: 127, Loss: 0.237125\n",
      "Epoch: 128, Loss: 0.380359\n",
      "Epoch: 129, Loss: 0.288576\n",
      "Epoch: 130, Loss: 0.380678\n",
      "Epoch: 131, Loss: 0.115481\n",
      "Epoch: 132, Loss: 0.307413\n",
      "Epoch: 133, Loss: 0.206050\n",
      "Epoch: 134, Loss: 0.240776\n",
      "Epoch: 135, Loss: 0.405451\n",
      "Epoch: 136, Loss: 0.281032\n",
      "Epoch: 137, Loss: 0.114875\n",
      "Epoch: 138, Loss: 0.148444\n",
      "Epoch: 139, Loss: 0.270396\n",
      "Epoch: 140, Loss: 0.173870\n",
      "Epoch: 141, Loss: 0.233736\n",
      "Epoch: 142, Loss: 0.119814\n",
      "Epoch: 143, Loss: 0.268822\n",
      "Epoch: 144, Loss: 0.183855\n",
      "Epoch: 145, Loss: 0.078222\n",
      "Epoch: 146, Loss: 0.208988\n",
      "Epoch: 147, Loss: 0.491931\n",
      "Epoch: 148, Loss: 0.435870\n",
      "Epoch: 149, Loss: 0.189922\n"
     ]
    }
   ],
   "source": [
    "for epoch in range(n_epochs):\n",
    "    for eig_vals, label in train_loader:\n",
    "        out = model(eig_vals)\n",
    "        loss = loss_fn(out, label)\n",
    "                \n",
    "        optimizer.zero_grad()\n",
    "        loss.backward()\n",
    "        optimizer.step()\n",
    "\n",
    "    print(\"Epoch: %d, Loss: %f\" % (epoch, float(loss)))\n",
    "    # if loss <= 0.1:\n",
    "    #     break"
   ]
  },
  {
   "cell_type": "code",
   "execution_count": 12,
   "id": "e4d4fbe2-29c9-412a-b4ae-9e2b2e174a0f",
   "metadata": {},
   "outputs": [
    {
     "name": "stdout",
     "output_type": "stream",
     "text": [
      "Accuracy: 0.905905\n"
     ]
    }
   ],
   "source": [
    "# train_loader = torch.utils.data.DataLoader(train_data, batch_size=64,\n",
    "#                                            shuffle=False)\n",
    "correct = 0\n",
    "total = 0\n",
    "\n",
    "with torch.no_grad():\n",
    "    for laps, labels in train_loader:\n",
    "        outputs = model(laps)\n",
    "        _, predicted = torch.max(outputs, dim=1)\n",
    "        total += labels.shape[0]\n",
    "        correct += int((predicted == labels).sum())\n",
    "        \n",
    "print(\"Accuracy: %f\" % (correct / total))"
   ]
  },
  {
   "cell_type": "code",
   "execution_count": 13,
   "id": "050ed6c1-45e9-4cb6-8ced-7b81cc635298",
   "metadata": {},
   "outputs": [
    {
     "name": "stdout",
     "output_type": "stream",
     "text": [
      "Accuracy: 0.858974\n"
     ]
    }
   ],
   "source": [
    "test_loader = torch.utils.data.DataLoader(test_data, batch_size=64,\n",
    "                                         shuffle=False)\n",
    "\n",
    "correct = 0\n",
    "total = 0\n",
    "\n",
    "with torch.no_grad():\n",
    "    for laps, labels in test_loader:\n",
    "        outputs = model(laps)\n",
    "        _, predicted = torch.max(outputs, dim=1)\n",
    "        total += labels.shape[0]\n",
    "        correct += int((predicted == labels).sum())\n",
    "        \n",
    "print(\"Accuracy: %f\" % (correct / total))"
   ]
  },
  {
   "cell_type": "code",
   "execution_count": null,
   "id": "27082cbe-c6e3-4c19-834c-f23ed82f0b13",
   "metadata": {},
   "outputs": [],
   "source": []
  },
  {
   "cell_type": "code",
   "execution_count": null,
   "id": "51705e54-f432-4455-a2e3-7e34668b3fad",
   "metadata": {},
   "outputs": [],
   "source": []
  },
  {
   "cell_type": "code",
   "execution_count": null,
   "id": "ac3017e1-786c-4f94-9da5-868503c9737f",
   "metadata": {},
   "outputs": [],
   "source": []
  },
  {
   "cell_type": "code",
   "execution_count": null,
   "id": "379ea8a2-e8d2-490b-83a5-4bdc344347ab",
   "metadata": {},
   "outputs": [],
   "source": []
  },
  {
   "cell_type": "code",
   "execution_count": null,
   "id": "7cd8c181-7c3d-43ff-859e-5c969fa0308e",
   "metadata": {},
   "outputs": [],
   "source": []
  },
  {
   "cell_type": "code",
   "execution_count": null,
   "id": "7aef2e7e-96f9-4056-9704-6aeebba7f8c9",
   "metadata": {},
   "outputs": [],
   "source": []
  },
  {
   "cell_type": "code",
   "execution_count": null,
   "id": "6fb116d2-2645-46b2-92aa-669db09f60ee",
   "metadata": {},
   "outputs": [],
   "source": []
  },
  {
   "cell_type": "code",
   "execution_count": null,
   "id": "481db5bf-784c-4a52-88a8-65bdb89a67c5",
   "metadata": {},
   "outputs": [],
   "source": []
  }
 ],
 "metadata": {
  "kernelspec": {
   "display_name": "Python 3 (ipykernel)",
   "language": "python",
   "name": "python3"
  },
  "language_info": {
   "codemirror_mode": {
    "name": "ipython",
    "version": 3
   },
   "file_extension": ".py",
   "mimetype": "text/x-python",
   "name": "python",
   "nbconvert_exporter": "python",
   "pygments_lexer": "ipython3",
   "version": "3.11.9"
  }
 },
 "nbformat": 4,
 "nbformat_minor": 5
}
