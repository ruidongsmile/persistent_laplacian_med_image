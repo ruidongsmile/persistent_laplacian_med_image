{
 "cells": [
  {
   "cell_type": "code",
   "execution_count": 1,
   "id": "f88a689e-44ac-48ab-b1a4-9445e05bdc23",
   "metadata": {},
   "outputs": [],
   "source": [
    "import torch\n",
    "import torch.nn as nn\n",
    "import torch.optim as optim\n",
    "\n",
    "from matplotlib import pyplot as plt\n",
    "\n",
    "import medmnist\n",
    "from medmnist import INFO, Evaluator"
   ]
  },
  {
   "cell_type": "code",
   "execution_count": 3,
   "id": "468c4b7a-36e2-4c8c-a7ce-15ab457f1c89",
   "metadata": {},
   "outputs": [],
   "source": [
    "lap_egns_1 = torch.load(\"lap_egns_1_up_pneum.pt\")\n",
    "lap_egns_2 = torch.load(\"lap_egns_2_up_pneum.pt\")\n",
    "lap_egns_3 = torch.load(\"lap_egns_3_up_pneum.pt\")\n",
    "lap_egns_4 = torch.load(\"lap_egns_4_up_pneum.pt\")\n",
    "lap_egns_5 = torch.load(\"lap_egns_5_up_pneum.pt\")\n",
    "\n",
    "lap_egns_test = torch.load(\"lap_egns_test_up_pneum.pt\")\n",
    "\n",
    "train_labels = torch.load(\"train_labels_pneum.pt\")\n",
    "test_labels = torch.load(\"test_labels_pneum.pt\")"
   ]
  },
  {
   "cell_type": "code",
   "execution_count": 4,
   "id": "4b4ca0ac-00ce-4477-981d-59dde8748fd6",
   "metadata": {},
   "outputs": [],
   "source": [
    "train_eigns = torch.cat([lap_egns_1, lap_egns_2, lap_egns_3, lap_egns_4, lap_egns_5])"
   ]
  },
  {
   "cell_type": "code",
   "execution_count": 5,
   "id": "bf32a917-e5c6-407e-ad06-f64343c9da7f",
   "metadata": {},
   "outputs": [
    {
     "data": {
      "text/plain": [
       "torch.Size([4708, 14])"
      ]
     },
     "execution_count": 5,
     "metadata": {},
     "output_type": "execute_result"
    }
   ],
   "source": [
    "train_eigns.shape"
   ]
  },
  {
   "cell_type": "code",
   "execution_count": 7,
   "id": "d2c84c2b-844c-4cbb-b1e6-aa685716bc1f",
   "metadata": {},
   "outputs": [],
   "source": [
    "train_data = [(lap, lb) for lap, lb in zip(train_eigns, train_labels.squeeze().tolist())]  # train_eigns[:, :, 1] "
   ]
  },
  {
   "cell_type": "code",
   "execution_count": 8,
   "id": "a619d656-a090-4cc5-8806-bc806e9a3659",
   "metadata": {},
   "outputs": [],
   "source": [
    "test_data = [(lap, lb) for lap, lb in zip(lap_egns_test, test_labels.squeeze().tolist())] # lap_egns_test[:, :, 1] "
   ]
  },
  {
   "cell_type": "markdown",
   "id": "f7dd4ec1-efc4-4627-8b94-6a141897c4b2",
   "metadata": {},
   "source": [
    "# Training"
   ]
  },
  {
   "cell_type": "code",
   "execution_count": 9,
   "id": "98fea7e1-b79c-423f-956c-65bbb17537ba",
   "metadata": {},
   "outputs": [],
   "source": [
    "train_loader = torch.utils.data.DataLoader(train_data, batch_size=64,\n",
    "                                           shuffle=True)"
   ]
  },
  {
   "cell_type": "code",
   "execution_count": 11,
   "id": "ed0cec55-cc74-45e5-9fb2-54b593395e75",
   "metadata": {},
   "outputs": [
    {
     "data": {
      "text/plain": [
       "torch.Size([4708, 14])"
      ]
     },
     "execution_count": 11,
     "metadata": {},
     "output_type": "execute_result"
    }
   ],
   "source": [
    "train_eigns.shape"
   ]
  },
  {
   "cell_type": "code",
   "execution_count": 36,
   "id": "7d2953b0-6fb6-4005-a1d1-25f2f58c7f5b",
   "metadata": {},
   "outputs": [],
   "source": [
    "model = nn.Sequential(\n",
    "            nn.Linear(14, 2048),\n",
    "            nn.Tanh(),\n",
    "            nn.Linear(2048, 2048),\n",
    "            nn.Tanh(),\n",
    "            nn.Linear(2048, 1024),\n",
    "            nn.Tanh(),\n",
    "            nn.Linear(1024, 512),\n",
    "            nn.Tanh(),\n",
    "            nn.Linear(512, 256),\n",
    "            nn.Tanh(),\n",
    "            nn.Linear(256, 2),\n",
    "            # nn.LogSoftmax(dim=1)\n",
    ")"
   ]
  },
  {
   "cell_type": "code",
   "execution_count": 37,
   "id": "bbf680c3-d5ab-4085-b85a-293a0198cfb7",
   "metadata": {},
   "outputs": [],
   "source": [
    "learning_rate = 5e-3\n",
    "\n",
    "optimizer = optim.SGD(model.parameters(), lr=learning_rate)\n",
    "\n",
    "loss_fn = nn.CrossEntropyLoss()\n",
    "\n",
    "n_epochs = 150"
   ]
  },
  {
   "cell_type": "code",
   "execution_count": 38,
   "id": "ecf69ca6-47ab-4480-bd99-169ebf66176d",
   "metadata": {
    "scrolled": true
   },
   "outputs": [
    {
     "name": "stdout",
     "output_type": "stream",
     "text": [
      "Epoch: 0, Loss: 0.569319\n",
      "Epoch: 1, Loss: 0.650792\n",
      "Epoch: 2, Loss: 0.539408\n",
      "Epoch: 3, Loss: 0.511572\n",
      "Epoch: 4, Loss: 0.585692\n",
      "Epoch: 5, Loss: 0.613515\n",
      "Epoch: 6, Loss: 0.592967\n",
      "Epoch: 7, Loss: 0.644922\n",
      "Epoch: 8, Loss: 0.639458\n",
      "Epoch: 9, Loss: 0.517568\n",
      "Epoch: 10, Loss: 0.421120\n",
      "Epoch: 11, Loss: 0.545420\n",
      "Epoch: 12, Loss: 0.536555\n",
      "Epoch: 13, Loss: 0.448189\n",
      "Epoch: 14, Loss: 0.464468\n",
      "Epoch: 15, Loss: 0.616584\n",
      "Epoch: 16, Loss: 0.492176\n",
      "Epoch: 17, Loss: 0.539192\n",
      "Epoch: 18, Loss: 0.496841\n",
      "Epoch: 19, Loss: 0.595497\n",
      "Epoch: 20, Loss: 0.672011\n",
      "Epoch: 21, Loss: 0.552009\n",
      "Epoch: 22, Loss: 0.471901\n",
      "Epoch: 23, Loss: 0.573434\n",
      "Epoch: 24, Loss: 0.544124\n",
      "Epoch: 25, Loss: 0.621574\n",
      "Epoch: 26, Loss: 0.586354\n",
      "Epoch: 27, Loss: 0.493044\n",
      "Epoch: 28, Loss: 0.527335\n",
      "Epoch: 29, Loss: 0.545351\n",
      "Epoch: 30, Loss: 0.714742\n",
      "Epoch: 31, Loss: 0.512412\n",
      "Epoch: 32, Loss: 0.450355\n",
      "Epoch: 33, Loss: 0.505030\n",
      "Epoch: 34, Loss: 0.417795\n",
      "Epoch: 35, Loss: 0.505094\n",
      "Epoch: 36, Loss: 0.496978\n",
      "Epoch: 37, Loss: 0.534409\n",
      "Epoch: 38, Loss: 0.361446\n",
      "Epoch: 39, Loss: 0.255355\n",
      "Epoch: 40, Loss: 0.332938\n",
      "Epoch: 41, Loss: 0.426828\n",
      "Epoch: 42, Loss: 0.355247\n",
      "Epoch: 43, Loss: 0.375109\n",
      "Epoch: 44, Loss: 0.453209\n",
      "Epoch: 45, Loss: 0.409911\n",
      "Epoch: 46, Loss: 0.406732\n",
      "Epoch: 47, Loss: 0.383865\n",
      "Epoch: 48, Loss: 0.337904\n",
      "Epoch: 49, Loss: 0.262467\n",
      "Epoch: 50, Loss: 0.336387\n",
      "Epoch: 51, Loss: 0.403154\n",
      "Epoch: 52, Loss: 0.428616\n",
      "Epoch: 53, Loss: 0.180167\n",
      "Epoch: 54, Loss: 0.430000\n",
      "Epoch: 55, Loss: 0.306831\n",
      "Epoch: 56, Loss: 0.218712\n",
      "Epoch: 57, Loss: 0.509124\n",
      "Epoch: 58, Loss: 0.307141\n",
      "Epoch: 59, Loss: 0.276246\n",
      "Epoch: 60, Loss: 0.175765\n",
      "Epoch: 61, Loss: 0.260706\n",
      "Epoch: 62, Loss: 0.274712\n",
      "Epoch: 63, Loss: 0.269499\n",
      "Epoch: 64, Loss: 0.313838\n",
      "Epoch: 65, Loss: 0.433852\n",
      "Epoch: 66, Loss: 0.330268\n",
      "Epoch: 67, Loss: 0.415765\n",
      "Epoch: 68, Loss: 0.297979\n",
      "Epoch: 69, Loss: 0.189995\n",
      "Epoch: 70, Loss: 0.316108\n",
      "Epoch: 71, Loss: 0.396672\n",
      "Epoch: 72, Loss: 0.258542\n",
      "Epoch: 73, Loss: 0.226799\n",
      "Epoch: 74, Loss: 0.284912\n",
      "Epoch: 75, Loss: 0.369606\n",
      "Epoch: 76, Loss: 0.350116\n",
      "Epoch: 77, Loss: 0.220080\n",
      "Epoch: 78, Loss: 0.314042\n",
      "Epoch: 79, Loss: 0.181652\n",
      "Epoch: 80, Loss: 0.332458\n",
      "Epoch: 81, Loss: 0.247420\n",
      "Epoch: 82, Loss: 0.380815\n",
      "Epoch: 83, Loss: 0.352552\n",
      "Epoch: 84, Loss: 0.328764\n",
      "Epoch: 85, Loss: 0.169380\n",
      "Epoch: 86, Loss: 0.214364\n",
      "Epoch: 87, Loss: 0.344050\n",
      "Epoch: 88, Loss: 0.231595\n",
      "Epoch: 89, Loss: 0.447893\n",
      "Epoch: 90, Loss: 0.400284\n",
      "Epoch: 91, Loss: 0.208745\n",
      "Epoch: 92, Loss: 0.254831\n",
      "Epoch: 93, Loss: 0.279264\n",
      "Epoch: 94, Loss: 0.139729\n",
      "Epoch: 95, Loss: 0.229313\n",
      "Epoch: 96, Loss: 0.226483\n",
      "Epoch: 97, Loss: 0.265702\n",
      "Epoch: 98, Loss: 0.282439\n",
      "Epoch: 99, Loss: 0.248622\n",
      "Epoch: 100, Loss: 0.204128\n",
      "Epoch: 101, Loss: 0.329012\n",
      "Epoch: 102, Loss: 0.140268\n",
      "Epoch: 103, Loss: 0.366283\n",
      "Epoch: 104, Loss: 0.229453\n",
      "Epoch: 105, Loss: 0.299840\n",
      "Epoch: 106, Loss: 0.202861\n",
      "Epoch: 107, Loss: 0.114368\n",
      "Epoch: 108, Loss: 0.142019\n",
      "Epoch: 109, Loss: 0.205040\n",
      "Epoch: 110, Loss: 0.195281\n",
      "Epoch: 111, Loss: 0.393370\n",
      "Epoch: 112, Loss: 0.485710\n",
      "Epoch: 113, Loss: 0.293117\n",
      "Epoch: 114, Loss: 0.231240\n",
      "Epoch: 115, Loss: 0.355396\n",
      "Epoch: 116, Loss: 0.181759\n",
      "Epoch: 117, Loss: 0.232728\n",
      "Epoch: 118, Loss: 0.627050\n",
      "Epoch: 119, Loss: 0.339553\n",
      "Epoch: 120, Loss: 0.340104\n",
      "Epoch: 121, Loss: 0.185266\n",
      "Epoch: 122, Loss: 0.238828\n",
      "Epoch: 123, Loss: 0.275538\n",
      "Epoch: 124, Loss: 0.210445\n",
      "Epoch: 125, Loss: 0.376709\n",
      "Epoch: 126, Loss: 0.431675\n",
      "Epoch: 127, Loss: 0.498027\n",
      "Epoch: 128, Loss: 0.183642\n",
      "Epoch: 129, Loss: 0.248096\n",
      "Epoch: 130, Loss: 0.194562\n",
      "Epoch: 131, Loss: 0.315784\n",
      "Epoch: 132, Loss: 0.273125\n",
      "Epoch: 133, Loss: 0.174698\n",
      "Epoch: 134, Loss: 0.229302\n",
      "Epoch: 135, Loss: 0.272553\n",
      "Epoch: 136, Loss: 0.158063\n",
      "Epoch: 137, Loss: 0.201484\n",
      "Epoch: 138, Loss: 0.160660\n",
      "Epoch: 139, Loss: 0.114570\n",
      "Epoch: 140, Loss: 0.275118\n",
      "Epoch: 141, Loss: 0.305863\n",
      "Epoch: 142, Loss: 0.538954\n",
      "Epoch: 143, Loss: 0.303082\n",
      "Epoch: 144, Loss: 0.327250\n",
      "Epoch: 145, Loss: 0.260065\n",
      "Epoch: 146, Loss: 0.165069\n",
      "Epoch: 147, Loss: 0.427986\n",
      "Epoch: 148, Loss: 0.589936\n",
      "Epoch: 149, Loss: 0.145369\n"
     ]
    }
   ],
   "source": [
    "for epoch in range(n_epochs):\n",
    "    for eig_vals, label in train_loader:\n",
    "        out = model(eig_vals)\n",
    "        loss = loss_fn(out, label)\n",
    "                \n",
    "        optimizer.zero_grad()\n",
    "        loss.backward()\n",
    "        optimizer.step()\n",
    "\n",
    "    print(\"Epoch: %d, Loss: %f\" % (epoch, float(loss)))\n",
    "    # if loss <= 0.1:\n",
    "    #     break"
   ]
  },
  {
   "cell_type": "code",
   "execution_count": 39,
   "id": "e4d4fbe2-29c9-412a-b4ae-9e2b2e174a0f",
   "metadata": {},
   "outputs": [
    {
     "name": "stdout",
     "output_type": "stream",
     "text": [
      "Accuracy: 0.901869\n"
     ]
    }
   ],
   "source": [
    "# train_loader = torch.utils.data.DataLoader(train_data, batch_size=64,\n",
    "#                                            shuffle=False)\n",
    "correct = 0\n",
    "total = 0\n",
    "\n",
    "with torch.no_grad():\n",
    "    for laps, labels in train_loader:\n",
    "        outputs = model(laps)\n",
    "        _, predicted = torch.max(outputs, dim=1)\n",
    "        total += labels.shape[0]\n",
    "        correct += int((predicted == labels).sum())\n",
    "        \n",
    "print(\"Accuracy: %f\" % (correct / total))"
   ]
  },
  {
   "cell_type": "code",
   "execution_count": 40,
   "id": "050ed6c1-45e9-4cb6-8ced-7b81cc635298",
   "metadata": {},
   "outputs": [
    {
     "name": "stdout",
     "output_type": "stream",
     "text": [
      "Accuracy: 0.847756\n"
     ]
    }
   ],
   "source": [
    "test_loader = torch.utils.data.DataLoader(test_data, batch_size=64,\n",
    "                                         shuffle=False)\n",
    "\n",
    "correct = 0\n",
    "total = 0\n",
    "\n",
    "with torch.no_grad():\n",
    "    for laps, labels in test_loader:\n",
    "        outputs = model(laps)\n",
    "        _, predicted = torch.max(outputs, dim=1)\n",
    "        total += labels.shape[0]\n",
    "        correct += int((predicted == labels).sum())\n",
    "        \n",
    "print(\"Accuracy: %f\" % (correct / total))"
   ]
  },
  {
   "cell_type": "code",
   "execution_count": null,
   "id": "27082cbe-c6e3-4c19-834c-f23ed82f0b13",
   "metadata": {},
   "outputs": [],
   "source": []
  },
  {
   "cell_type": "code",
   "execution_count": null,
   "id": "51705e54-f432-4455-a2e3-7e34668b3fad",
   "metadata": {},
   "outputs": [],
   "source": []
  },
  {
   "cell_type": "code",
   "execution_count": null,
   "id": "ac3017e1-786c-4f94-9da5-868503c9737f",
   "metadata": {},
   "outputs": [],
   "source": []
  },
  {
   "cell_type": "code",
   "execution_count": null,
   "id": "379ea8a2-e8d2-490b-83a5-4bdc344347ab",
   "metadata": {},
   "outputs": [],
   "source": []
  },
  {
   "cell_type": "code",
   "execution_count": null,
   "id": "7cd8c181-7c3d-43ff-859e-5c969fa0308e",
   "metadata": {},
   "outputs": [],
   "source": []
  },
  {
   "cell_type": "code",
   "execution_count": null,
   "id": "7aef2e7e-96f9-4056-9704-6aeebba7f8c9",
   "metadata": {},
   "outputs": [],
   "source": []
  },
  {
   "cell_type": "code",
   "execution_count": null,
   "id": "6fb116d2-2645-46b2-92aa-669db09f60ee",
   "metadata": {},
   "outputs": [],
   "source": []
  },
  {
   "cell_type": "code",
   "execution_count": null,
   "id": "481db5bf-784c-4a52-88a8-65bdb89a67c5",
   "metadata": {},
   "outputs": [],
   "source": []
  }
 ],
 "metadata": {
  "kernelspec": {
   "display_name": "Python 3 (ipykernel)",
   "language": "python",
   "name": "python3"
  },
  "language_info": {
   "codemirror_mode": {
    "name": "ipython",
    "version": 3
   },
   "file_extension": ".py",
   "mimetype": "text/x-python",
   "name": "python",
   "nbconvert_exporter": "python",
   "pygments_lexer": "ipython3",
   "version": "3.11.9"
  }
 },
 "nbformat": 4,
 "nbformat_minor": 5
}
