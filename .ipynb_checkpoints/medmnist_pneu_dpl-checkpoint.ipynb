{
 "cells": [
  {
   "cell_type": "code",
   "execution_count": 117,
   "id": "f88a689e-44ac-48ab-b1a4-9445e05bdc23",
   "metadata": {},
   "outputs": [],
   "source": [
    "import torch\n",
    "import torch.nn as nn\n",
    "import torch.optim as optim\n",
    "\n",
    "from matplotlib import pyplot as plt\n",
    "\n",
    "import medmnist\n",
    "from medmnist import INFO, Evaluator"
   ]
  },
  {
   "cell_type": "code",
   "execution_count": 118,
   "id": "468c4b7a-36e2-4c8c-a7ce-15ab457f1c89",
   "metadata": {},
   "outputs": [],
   "source": [
    "lap_egns_1 = torch.load(\"lap_egns_1_pneum.pt\")\n",
    "lap_egns_2 = torch.load(\"lap_egns_2_pneum.pt\")\n",
    "lap_egns_3 = torch.load(\"lap_egns_3_pneum.pt\")\n",
    "lap_egns_4 = torch.load(\"lap_egns_4_pneum.pt\")\n",
    "lap_egns_5 = torch.load(\"lap_egns_5_pneum.pt\")\n",
    "\n",
    "lap_egns_test = torch.load(\"lap_egns_test_pneum.pt\")\n",
    "\n",
    "train_labels = torch.load(\"train_labels_pneum.pt\")\n",
    "test_labels = torch.load(\"test_labels_pneum.pt\")"
   ]
  },
  {
   "cell_type": "code",
   "execution_count": 7,
   "id": "4b4ca0ac-00ce-4477-981d-59dde8748fd6",
   "metadata": {},
   "outputs": [],
   "source": [
    "train_eigns = torch.cat([lap_egns_1, lap_egns_2, lap_egns_3, lap_egns_4, lap_egns_5])"
   ]
  },
  {
   "cell_type": "code",
   "execution_count": 8,
   "id": "bf32a917-e5c6-407e-ad06-f64343c9da7f",
   "metadata": {},
   "outputs": [
    {
     "data": {
      "text/plain": [
       "torch.Size([4708, 14, 3])"
      ]
     },
     "execution_count": 8,
     "metadata": {},
     "output_type": "execute_result"
    }
   ],
   "source": [
    "train_eigns.shape"
   ]
  },
  {
   "cell_type": "code",
   "execution_count": 82,
   "id": "9a2a155b-3d59-4c7c-b8ab-2b5a0987ef40",
   "metadata": {},
   "outputs": [
    {
     "data": {
      "text/plain": [
       "torch.Size([4708, 28])"
      ]
     },
     "execution_count": 82,
     "metadata": {},
     "output_type": "execute_result"
    }
   ],
   "source": [
    "train_eigns[:, :, 0:2].flatten(start_dim=1).shape"
   ]
  },
  {
   "cell_type": "code",
   "execution_count": 91,
   "id": "d2c84c2b-844c-4cbb-b1e6-aa685716bc1f",
   "metadata": {},
   "outputs": [],
   "source": [
    "train_data = [(lap, lb) for lap, lb in zip(train_eigns[:, :, 1], train_labels.squeeze().tolist())]  # train_eigns[:, :, 1] "
   ]
  },
  {
   "cell_type": "code",
   "execution_count": 92,
   "id": "a619d656-a090-4cc5-8806-bc806e9a3659",
   "metadata": {},
   "outputs": [],
   "source": [
    "test_data = [(lap, lb) for lap, lb in zip(lap_egns_test[:, :, 1], test_labels.squeeze().tolist())] # lap_egns_test[:, :, 1] "
   ]
  },
  {
   "cell_type": "markdown",
   "id": "f7dd4ec1-efc4-4627-8b94-6a141897c4b2",
   "metadata": {},
   "source": [
    "# Training"
   ]
  },
  {
   "cell_type": "code",
   "execution_count": 93,
   "id": "98fea7e1-b79c-423f-956c-65bbb17537ba",
   "metadata": {},
   "outputs": [],
   "source": [
    "train_loader = torch.utils.data.DataLoader(train_data, batch_size=64,\n",
    "                                           shuffle=True)"
   ]
  },
  {
   "cell_type": "code",
   "execution_count": 94,
   "id": "ed0cec55-cc74-45e5-9fb2-54b593395e75",
   "metadata": {},
   "outputs": [
    {
     "data": {
      "text/plain": [
       "torch.Size([4708, 14])"
      ]
     },
     "execution_count": 94,
     "metadata": {},
     "output_type": "execute_result"
    }
   ],
   "source": [
    "train_eigns[:, :, 1].shape"
   ]
  },
  {
   "cell_type": "code",
   "execution_count": 119,
   "id": "7d2953b0-6fb6-4005-a1d1-25f2f58c7f5b",
   "metadata": {},
   "outputs": [],
   "source": [
    "model = nn.Sequential(\n",
    "            nn.Linear(14, 2048),\n",
    "            nn.Tanh(),\n",
    "            nn.Linear(2048, 2048),\n",
    "            nn.Tanh(),\n",
    "            nn.Linear(2048, 1024),\n",
    "            nn.Tanh(),\n",
    "            nn.Linear(1024, 512),\n",
    "            nn.Tanh(),\n",
    "            nn.Linear(512, 256),\n",
    "            nn.Tanh(),\n",
    "            nn.Linear(256, 2),\n",
    "            # nn.LogSoftmax(dim=1)\n",
    ")"
   ]
  },
  {
   "cell_type": "code",
   "execution_count": 120,
   "id": "bbf680c3-d5ab-4085-b85a-293a0198cfb7",
   "metadata": {},
   "outputs": [],
   "source": [
    "learning_rate = 5e-3\n",
    "\n",
    "optimizer = optim.SGD(model.parameters(), lr=learning_rate)\n",
    "\n",
    "loss_fn = nn.CrossEntropyLoss()\n",
    "\n",
    "n_epochs = 150"
   ]
  },
  {
   "cell_type": "code",
   "execution_count": 121,
   "id": "ecf69ca6-47ab-4480-bd99-169ebf66176d",
   "metadata": {
    "scrolled": true
   },
   "outputs": [
    {
     "name": "stdout",
     "output_type": "stream",
     "text": [
      "Epoch: 0, Loss: 0.583711\n",
      "Epoch: 1, Loss: 0.545291\n",
      "Epoch: 2, Loss: 0.473914\n",
      "Epoch: 3, Loss: 0.608946\n",
      "Epoch: 4, Loss: 0.555189\n",
      "Epoch: 5, Loss: 0.434647\n",
      "Epoch: 6, Loss: 0.533506\n",
      "Epoch: 7, Loss: 0.588061\n",
      "Epoch: 8, Loss: 0.620426\n",
      "Epoch: 9, Loss: 0.580391\n",
      "Epoch: 10, Loss: 0.495247\n",
      "Epoch: 11, Loss: 0.546242\n",
      "Epoch: 12, Loss: 0.553246\n",
      "Epoch: 13, Loss: 0.436028\n",
      "Epoch: 14, Loss: 0.587215\n",
      "Epoch: 15, Loss: 0.513305\n",
      "Epoch: 16, Loss: 0.588250\n",
      "Epoch: 17, Loss: 0.608148\n",
      "Epoch: 18, Loss: 0.605769\n",
      "Epoch: 19, Loss: 0.597483\n",
      "Epoch: 20, Loss: 0.647815\n",
      "Epoch: 21, Loss: 0.588162\n",
      "Epoch: 22, Loss: 0.640346\n",
      "Epoch: 23, Loss: 0.550506\n",
      "Epoch: 24, Loss: 0.525570\n",
      "Epoch: 25, Loss: 0.603192\n",
      "Epoch: 26, Loss: 0.493930\n",
      "Epoch: 27, Loss: 0.517143\n",
      "Epoch: 28, Loss: 0.504008\n",
      "Epoch: 29, Loss: 0.528012\n",
      "Epoch: 30, Loss: 0.522697\n",
      "Epoch: 31, Loss: 0.671078\n",
      "Epoch: 32, Loss: 0.646596\n",
      "Epoch: 33, Loss: 0.565214\n",
      "Epoch: 34, Loss: 0.547382\n",
      "Epoch: 35, Loss: 0.607607\n",
      "Epoch: 36, Loss: 0.609535\n",
      "Epoch: 37, Loss: 0.701554\n",
      "Epoch: 38, Loss: 0.568564\n",
      "Epoch: 39, Loss: 0.477564\n",
      "Epoch: 40, Loss: 0.456816\n",
      "Epoch: 41, Loss: 0.507315\n",
      "Epoch: 42, Loss: 0.493622\n",
      "Epoch: 43, Loss: 0.470920\n",
      "Epoch: 44, Loss: 0.559354\n",
      "Epoch: 45, Loss: 0.576796\n",
      "Epoch: 46, Loss: 0.429058\n",
      "Epoch: 47, Loss: 0.627715\n",
      "Epoch: 48, Loss: 0.625537\n",
      "Epoch: 49, Loss: 0.443388\n",
      "Epoch: 50, Loss: 0.475994\n",
      "Epoch: 51, Loss: 0.636897\n",
      "Epoch: 52, Loss: 0.562991\n",
      "Epoch: 53, Loss: 0.508253\n",
      "Epoch: 54, Loss: 0.491384\n",
      "Epoch: 55, Loss: 0.625798\n",
      "Epoch: 56, Loss: 0.624275\n",
      "Epoch: 57, Loss: 0.548894\n",
      "Epoch: 58, Loss: 0.677219\n",
      "Epoch: 59, Loss: 0.474367\n",
      "Epoch: 60, Loss: 0.523883\n",
      "Epoch: 61, Loss: 0.634854\n",
      "Epoch: 62, Loss: 0.574282\n",
      "Epoch: 63, Loss: 0.742310\n",
      "Epoch: 64, Loss: 0.460586\n",
      "Epoch: 65, Loss: 0.519288\n",
      "Epoch: 66, Loss: 0.468476\n",
      "Epoch: 67, Loss: 0.638223\n",
      "Epoch: 68, Loss: 0.501618\n",
      "Epoch: 69, Loss: 0.517966\n",
      "Epoch: 70, Loss: 0.464317\n",
      "Epoch: 71, Loss: 0.483311\n",
      "Epoch: 72, Loss: 0.591589\n",
      "Epoch: 73, Loss: 0.479812\n",
      "Epoch: 74, Loss: 0.558192\n",
      "Epoch: 75, Loss: 0.598370\n",
      "Epoch: 76, Loss: 0.432414\n",
      "Epoch: 77, Loss: 0.497089\n",
      "Epoch: 78, Loss: 0.518593\n",
      "Epoch: 79, Loss: 0.632964\n",
      "Epoch: 80, Loss: 0.504788\n",
      "Epoch: 81, Loss: 0.558451\n",
      "Epoch: 82, Loss: 0.557594\n",
      "Epoch: 83, Loss: 0.614548\n",
      "Epoch: 84, Loss: 0.700173\n",
      "Epoch: 85, Loss: 0.618664\n",
      "Epoch: 86, Loss: 0.616184\n",
      "Epoch: 87, Loss: 0.528795\n",
      "Epoch: 88, Loss: 0.649515\n",
      "Epoch: 89, Loss: 0.526655\n",
      "Epoch: 90, Loss: 0.352933\n",
      "Epoch: 91, Loss: 0.501287\n",
      "Epoch: 92, Loss: 0.637341\n",
      "Epoch: 93, Loss: 0.583250\n",
      "Epoch: 94, Loss: 0.570833\n",
      "Epoch: 95, Loss: 0.635954\n",
      "Epoch: 96, Loss: 0.559954\n",
      "Epoch: 97, Loss: 0.568402\n",
      "Epoch: 98, Loss: 0.700783\n",
      "Epoch: 99, Loss: 0.585220\n",
      "Epoch: 100, Loss: 0.473630\n",
      "Epoch: 101, Loss: 0.509836\n",
      "Epoch: 102, Loss: 0.646576\n",
      "Epoch: 103, Loss: 0.521543\n",
      "Epoch: 104, Loss: 0.610526\n",
      "Epoch: 105, Loss: 0.459822\n",
      "Epoch: 106, Loss: 0.498286\n",
      "Epoch: 107, Loss: 0.607213\n",
      "Epoch: 108, Loss: 0.519900\n",
      "Epoch: 109, Loss: 0.641964\n",
      "Epoch: 110, Loss: 0.618063\n",
      "Epoch: 111, Loss: 0.763591\n",
      "Epoch: 112, Loss: 0.521102\n",
      "Epoch: 113, Loss: 0.608445\n",
      "Epoch: 114, Loss: 0.510625\n",
      "Epoch: 115, Loss: 0.427048\n",
      "Epoch: 116, Loss: 0.591721\n",
      "Epoch: 117, Loss: 0.647856\n",
      "Epoch: 118, Loss: 0.488568\n",
      "Epoch: 119, Loss: 0.526408\n",
      "Epoch: 120, Loss: 0.572233\n",
      "Epoch: 121, Loss: 0.673487\n",
      "Epoch: 122, Loss: 0.606959\n",
      "Epoch: 123, Loss: 0.505704\n",
      "Epoch: 124, Loss: 0.496201\n",
      "Epoch: 125, Loss: 0.465489\n",
      "Epoch: 126, Loss: 0.624385\n",
      "Epoch: 127, Loss: 0.686650\n",
      "Epoch: 128, Loss: 0.545280\n",
      "Epoch: 129, Loss: 0.517826\n",
      "Epoch: 130, Loss: 0.485378\n",
      "Epoch: 131, Loss: 0.533132\n",
      "Epoch: 132, Loss: 0.514001\n",
      "Epoch: 133, Loss: 0.464834\n",
      "Epoch: 134, Loss: 0.543011\n",
      "Epoch: 135, Loss: 0.571471\n",
      "Epoch: 136, Loss: 0.474706\n",
      "Epoch: 137, Loss: 0.519914\n",
      "Epoch: 138, Loss: 0.525006\n",
      "Epoch: 139, Loss: 0.466618\n",
      "Epoch: 140, Loss: 0.506426\n",
      "Epoch: 141, Loss: 0.549200\n",
      "Epoch: 142, Loss: 0.485039\n",
      "Epoch: 143, Loss: 0.434738\n",
      "Epoch: 144, Loss: 0.438212\n",
      "Epoch: 145, Loss: 0.570711\n",
      "Epoch: 146, Loss: 0.472167\n",
      "Epoch: 147, Loss: 0.416285\n",
      "Epoch: 148, Loss: 0.457354\n",
      "Epoch: 149, Loss: 0.566207\n"
     ]
    }
   ],
   "source": [
    "for epoch in range(n_epochs):\n",
    "    for eig_vals, label in train_loader:\n",
    "        out = model(eig_vals)\n",
    "        loss = loss_fn(out, label)\n",
    "                \n",
    "        optimizer.zero_grad()\n",
    "        loss.backward()\n",
    "        optimizer.step()\n",
    "\n",
    "    print(\"Epoch: %d, Loss: %f\" % (epoch, float(loss)))\n",
    "    # if loss <= 0.02:\n",
    "    #     break"
   ]
  },
  {
   "cell_type": "code",
   "execution_count": 122,
   "id": "e4d4fbe2-29c9-412a-b4ae-9e2b2e174a0f",
   "metadata": {},
   "outputs": [
    {
     "name": "stdout",
     "output_type": "stream",
     "text": [
      "Accuracy: 0.743840\n"
     ]
    }
   ],
   "source": [
    "# train_loader = torch.utils.data.DataLoader(train_data, batch_size=64,\n",
    "#                                            shuffle=False)\n",
    "correct = 0\n",
    "total = 0\n",
    "\n",
    "with torch.no_grad():\n",
    "    for laps, labels in train_loader:\n",
    "        outputs = model(laps)\n",
    "        _, predicted = torch.max(outputs, dim=1)\n",
    "        total += labels.shape[0]\n",
    "        correct += int((predicted == labels).sum())\n",
    "        \n",
    "print(\"Accuracy: %f\" % (correct / total))"
   ]
  },
  {
   "cell_type": "code",
   "execution_count": 123,
   "id": "050ed6c1-45e9-4cb6-8ced-7b81cc635298",
   "metadata": {},
   "outputs": [
    {
     "name": "stdout",
     "output_type": "stream",
     "text": [
      "Accuracy: 0.625000\n"
     ]
    }
   ],
   "source": [
    "test_loader = torch.utils.data.DataLoader(test_data, batch_size=64,\n",
    "                                         shuffle=False)\n",
    "\n",
    "correct = 0\n",
    "total = 0\n",
    "\n",
    "with torch.no_grad():\n",
    "    for laps, labels in test_loader:\n",
    "        outputs = model(laps)\n",
    "        _, predicted = torch.max(outputs, dim=1)\n",
    "        total += labels.shape[0]\n",
    "        correct += int((predicted == labels).sum())\n",
    "        \n",
    "print(\"Accuracy: %f\" % (correct / total))"
   ]
  },
  {
   "cell_type": "code",
   "execution_count": null,
   "id": "27082cbe-c6e3-4c19-834c-f23ed82f0b13",
   "metadata": {},
   "outputs": [],
   "source": []
  },
  {
   "cell_type": "code",
   "execution_count": null,
   "id": "51705e54-f432-4455-a2e3-7e34668b3fad",
   "metadata": {},
   "outputs": [],
   "source": []
  },
  {
   "cell_type": "code",
   "execution_count": null,
   "id": "ac3017e1-786c-4f94-9da5-868503c9737f",
   "metadata": {},
   "outputs": [],
   "source": []
  },
  {
   "cell_type": "code",
   "execution_count": null,
   "id": "379ea8a2-e8d2-490b-83a5-4bdc344347ab",
   "metadata": {},
   "outputs": [],
   "source": []
  },
  {
   "cell_type": "code",
   "execution_count": null,
   "id": "7cd8c181-7c3d-43ff-859e-5c969fa0308e",
   "metadata": {},
   "outputs": [],
   "source": []
  },
  {
   "cell_type": "code",
   "execution_count": null,
   "id": "7aef2e7e-96f9-4056-9704-6aeebba7f8c9",
   "metadata": {},
   "outputs": [],
   "source": []
  },
  {
   "cell_type": "code",
   "execution_count": null,
   "id": "6fb116d2-2645-46b2-92aa-669db09f60ee",
   "metadata": {},
   "outputs": [],
   "source": []
  },
  {
   "cell_type": "code",
   "execution_count": null,
   "id": "481db5bf-784c-4a52-88a8-65bdb89a67c5",
   "metadata": {},
   "outputs": [],
   "source": []
  }
 ],
 "metadata": {
  "kernelspec": {
   "display_name": "Python 3 (ipykernel)",
   "language": "python",
   "name": "python3"
  },
  "language_info": {
   "codemirror_mode": {
    "name": "ipython",
    "version": 3
   },
   "file_extension": ".py",
   "mimetype": "text/x-python",
   "name": "python",
   "nbconvert_exporter": "python",
   "pygments_lexer": "ipython3",
   "version": "3.11.9"
  }
 },
 "nbformat": 4,
 "nbformat_minor": 5
}
